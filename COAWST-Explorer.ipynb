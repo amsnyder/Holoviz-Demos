{
 "cells": [
  {
   "cell_type": "code",
   "execution_count": null,
   "id": "3a4b42a9-fd75-4624-8b85-1fcf3cbe0c8d",
   "metadata": {},
   "outputs": [],
   "source": [
    "import xarray as xr\n",
    "import panel as pn\n",
    "import hvplot.xarray\n",
    "from geoviews import tile_sources as gvts\n",
    "import cf_xarray \n",
    "import intake"
   ]
  },
  {
   "cell_type": "code",
   "execution_count": null,
   "id": "58b6d1e4-e1f4-4174-b221-0f59d1e18be5",
   "metadata": {},
   "outputs": [],
   "source": [
    "update_button = pn.widgets.Button(name='Load latest data', button_type='success')"
   ]
  },
  {
   "cell_type": "code",
   "execution_count": null,
   "id": "8e5736fc-368b-4d66-8d5a-e523bcccf980",
   "metadata": {},
   "outputs": [],
   "source": [
    "def plot(ds, var, base_map):\n",
    "    extra_dims = list(ds[var].dims[:-2])\n",
    "    da = ds[var].cf.isel(T=slice(-time_vals,-1)).unify_chunks()\n",
    "    if len(da.shape) == 4:\n",
    "        mesh = da.hvplot.quadmesh(x=da.cf['longitude'].name, y=da.cf['latitude'].name, \n",
    "                              rasterize=True, geo=True, title=var, attr_labels=False, \n",
    "                              fields={da.cf['Z'].name: {'default': float(da.cf['Z'].values[-1])}},\n",
    "                              groupby=extra_dims, cmap='turbo', width=600, grid=True,\n",
    "                              height=600).opts(alpha=0.7, data_aspect=None, \n",
    "                              hooks=[set_tools],\n",
    "                              active_tools=['pan', 'box_zoom'])\n",
    "    else:\n",
    "        mesh = da.hvplot.quadmesh(x=da.cf['longitude'].name, y=da.cf['latitude'].name, \n",
    "                              rasterize=True, geo=True, title=var, attr_labels=False, \n",
    "                              groupby=extra_dims, cmap='turbo', width=600, grid=True,\n",
    "                              height=600).opts(alpha=0.7, data_aspect=None, \n",
    "                              hooks=[set_tools], active_tools=['pan', 'box_zoom'])\n",
    "    return pn.panel(mesh * base_map, widgets={k: pn.widgets.Select for k in extra_dims})"
   ]
  },
  {
   "cell_type": "code",
   "execution_count": null,
   "id": "a18e10a9-2ae6-4d19-ab81-5b4173e05e74",
   "metadata": {},
   "outputs": [],
   "source": [
    "url = 'https://mghp.osn.xsede.org/rsignellbucket1/catalogs/ioos_intake_catalog.yml'\n",
    "\n",
    "show_vars = ['Hwave', 'temp', 'salt', 'zeta', \n",
    "             'Uwind', 'Vwind', 'u', 'v', 'ubar', 'vbar', 'Dwave', 'sand_06', 'bstrcwmax']\n",
    "\n",
    "init_var = 'temp'\n",
    "\n",
    "time_vals = 48"
   ]
  },
  {
   "cell_type": "code",
   "execution_count": null,
   "id": "00c68e74-9291-40b5-b244-680eb407a8e5",
   "metadata": {},
   "outputs": [],
   "source": [
    "def set_tools(plot, element):\n",
    "    plot.state.toolbar.active_inspect = None"
   ]
  },
  {
   "cell_type": "code",
   "execution_count": null,
   "id": "8641c4c2-b715-4148-af8e-6cf806566b6e",
   "metadata": {},
   "outputs": [],
   "source": [
    "def map_select(event=None):\n",
    "    cat = intake.open_catalog(url)\n",
    "    ds = cat['COAWST-Archive'].to_dask()\n",
    "\n",
    "    var_select = pn.widgets.Select(name='COAWST Variables:', options=sorted(show_vars), value=init_var)\n",
    "    base_map_select = pn.widgets.Select(name='Basemap:', options=gvts.tile_sources, value=gvts.OSM)\n",
    "    \n",
    "    plot_app = pn.bind(plot, ds=ds, var=var_select, base_map=base_map_select)\n",
    "    return pn.Column(\n",
    "        var_select,\n",
    "        base_map_select,\n",
    "        pn.panel(plot_app, loading_indicator=True),\n",
    "    )"
   ]
  },
  {
   "cell_type": "code",
   "execution_count": null,
   "id": "96fcbf54-e901-4705-97c6-e8f7edf35010",
   "metadata": {},
   "outputs": [],
   "source": [
    "app = pn.Column(\n",
    "    update_button,\n",
    "    pn.panel(pn.bind(map_select, update_button), loading_indicator=True),\n",
    ")"
   ]
  },
  {
   "cell_type": "code",
   "execution_count": null,
   "id": "9ff3f7cf-5114-4620-a3ee-706e1d786451",
   "metadata": {},
   "outputs": [],
   "source": [
    "app.servable('COAWST Explorer')"
   ]
  }
 ],
 "metadata": {
  "kernelspec": {
   "display_name": "users-pangeo",
   "language": "python",
   "name": "conda-env-users-pangeo-py"
  },
  "language_info": {
   "codemirror_mode": {
    "name": "ipython",
    "version": 3
   },
   "file_extension": ".py",
   "mimetype": "text/x-python",
   "name": "python",
   "nbconvert_exporter": "python",
   "pygments_lexer": "ipython3",
   "version": "3.9.13"
  },
  "widgets": {
   "application/vnd.jupyter.widget-state+json": {
    "state": {},
    "version_major": 2,
    "version_minor": 0
   }
  }
 },
 "nbformat": 4,
 "nbformat_minor": 5
}
